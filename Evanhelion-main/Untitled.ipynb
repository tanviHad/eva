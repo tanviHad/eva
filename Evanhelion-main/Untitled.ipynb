{
 "cells": [
  {
   "cell_type": "code",
   "execution_count": 1,
   "id": "8ec03695",
   "metadata": {},
   "outputs": [],
   "source": [
    "import pandas as pd\n",
    "import json\n",
    "import numpy as np\n",
    "import os\n",
    "import matplotlib.pyplot as plt\n",
    "\n",
    "from sklearn.cluster import KMeans\n",
    "from sklearn.metrics import silhouette_score\n",
    "from sklearn.preprocessing import StandardScaler"
   ]
  },
  {
   "cell_type": "code",
   "execution_count": 2,
   "id": "7b18b34f",
   "metadata": {},
   "outputs": [
    {
     "name": "stderr",
     "output_type": "stream",
     "text": [
      "/var/folders/nl/2sq00v7j1jxdw2y7s4_913tw0000gn/T/ipykernel_3015/299583657.py:1: DtypeWarning: Columns (6) have mixed types. Specify dtype option on import or set low_memory=False.\n",
      "  df = pd.read_csv('Traffic_Accidents.csv')\n"
     ]
    },
    {
     "data": {
      "text/plain": [
       "(199306, 25)"
      ]
     },
     "execution_count": 2,
     "metadata": {},
     "output_type": "execute_result"
    }
   ],
   "source": [
    "df = pd.read_csv('Traffic_Accidents.csv')\n",
    "df.shape"
   ]
  },
  {
   "cell_type": "code",
   "execution_count": 6,
   "id": "34188270",
   "metadata": {},
   "outputs": [
    {
     "data": {
      "text/html": [
       "<div>\n",
       "<style scoped>\n",
       "    .dataframe tbody tr th:only-of-type {\n",
       "        vertical-align: middle;\n",
       "    }\n",
       "\n",
       "    .dataframe tbody tr th {\n",
       "        vertical-align: top;\n",
       "    }\n",
       "\n",
       "    .dataframe thead th {\n",
       "        text-align: right;\n",
       "    }\n",
       "</style>\n",
       "<table border=\"1\" class=\"dataframe\">\n",
       "  <thead>\n",
       "    <tr style=\"text-align: right;\">\n",
       "      <th></th>\n",
       "      <th>Accident Number</th>\n",
       "      <th>Date and Time</th>\n",
       "      <th>Number of Motor Vehicles</th>\n",
       "      <th>Number of Injuries</th>\n",
       "      <th>Number of Fatalities</th>\n",
       "      <th>Property Damage</th>\n",
       "      <th>Hit and Run</th>\n",
       "      <th>Reporting Officer</th>\n",
       "      <th>Collision Type Code</th>\n",
       "      <th>Collision Type Description</th>\n",
       "      <th>...</th>\n",
       "      <th>Harmful Description</th>\n",
       "      <th>Street Address</th>\n",
       "      <th>City</th>\n",
       "      <th>State</th>\n",
       "      <th>ZIP</th>\n",
       "      <th>RPA</th>\n",
       "      <th>Precinct</th>\n",
       "      <th>Latitude</th>\n",
       "      <th>Longitude</th>\n",
       "      <th>Mapped Location</th>\n",
       "    </tr>\n",
       "  </thead>\n",
       "  <tbody>\n",
       "    <tr>\n",
       "      <th>0</th>\n",
       "      <td>20210274292</td>\n",
       "      <td>May 17, 2021 06:42 PM</td>\n",
       "      <td>2.0</td>\n",
       "      <td>0</td>\n",
       "      <td>0</td>\n",
       "      <td>NaN</td>\n",
       "      <td>False</td>\n",
       "      <td>384403.0</td>\n",
       "      <td>4.0</td>\n",
       "      <td>ANGLE</td>\n",
       "      <td>...</td>\n",
       "      <td>MOTOR VEHICLE IN TRANSPORT</td>\n",
       "      <td>OLD HICKORY BLVD &amp; NOLENSVILLE PKE</td>\n",
       "      <td>ANTIOCH</td>\n",
       "      <td>TN</td>\n",
       "      <td>37013.0</td>\n",
       "      <td>8757.0</td>\n",
       "      <td>SOUTH</td>\n",
       "      <td>36.0455</td>\n",
       "      <td>-86.7122</td>\n",
       "      <td>POINT (-86.7122 36.0455)</td>\n",
       "    </tr>\n",
       "  </tbody>\n",
       "</table>\n",
       "<p>1 rows × 25 columns</p>\n",
       "</div>"
      ],
      "text/plain": [
       "   Accident Number          Date and Time  Number of Motor Vehicles  \\\n",
       "0      20210274292  May 17, 2021 06:42 PM                       2.0   \n",
       "\n",
       "   Number of Injuries  Number of Fatalities Property Damage Hit and Run  \\\n",
       "0                   0                     0             NaN       False   \n",
       "\n",
       "   Reporting Officer  Collision Type Code Collision Type Description  ...  \\\n",
       "0           384403.0                  4.0                      ANGLE  ...   \n",
       "\n",
       "          Harmful Description                      Street Address     City  \\\n",
       "0  MOTOR VEHICLE IN TRANSPORT  OLD HICKORY BLVD & NOLENSVILLE PKE  ANTIOCH   \n",
       "\n",
       "  State      ZIP     RPA Precinct Latitude Longitude           Mapped Location  \n",
       "0    TN  37013.0  8757.0    SOUTH  36.0455  -86.7122  POINT (-86.7122 36.0455)  \n",
       "\n",
       "[1 rows x 25 columns]"
      ]
     },
     "execution_count": 6,
     "metadata": {},
     "output_type": "execute_result"
    }
   ],
   "source": [
    "df.head(1)"
   ]
  },
  {
   "cell_type": "code",
   "execution_count": 7,
   "id": "88256c3f",
   "metadata": {},
   "outputs": [
    {
     "data": {
      "text/plain": [
       "Index(['Accident Number', 'Date and Time', 'Number of Motor Vehicles',\n",
       "       'Number of Injuries', 'Number of Fatalities', 'Property Damage',\n",
       "       'Hit and Run', 'Reporting Officer', 'Collision Type Code',\n",
       "       'Collision Type Description', 'Weather Code', 'Weather Description',\n",
       "       'Illumination Code', 'Illumination Description', 'Harmful Code',\n",
       "       'Harmful Description', 'Street Address', 'City', 'State', 'ZIP', 'RPA',\n",
       "       'Precinct', 'Latitude', 'Longitude', 'Mapped Location'],\n",
       "      dtype='object')"
      ]
     },
     "execution_count": 7,
     "metadata": {},
     "output_type": "execute_result"
    }
   ],
   "source": [
    "df.columns"
   ]
  },
  {
   "cell_type": "code",
   "execution_count": 13,
   "id": "78218e6b",
   "metadata": {},
   "outputs": [
    {
     "data": {
      "text/plain": [
       "True    14896\n",
       "Name: Property Damage, dtype: int64"
      ]
     },
     "execution_count": 13,
     "metadata": {},
     "output_type": "execute_result"
    }
   ],
   "source": [
    "df['Property Damage'].value_counts()"
   ]
  },
  {
   "cell_type": "code",
   "execution_count": 12,
   "id": "69369d1c",
   "metadata": {},
   "outputs": [
    {
     "data": {
      "text/plain": [
       "2.0     136628\n",
       "1.0      30024\n",
       "0.0      16754\n",
       "3.0      13066\n",
       "4.0       2215\n",
       "5.0        424\n",
       "6.0        117\n",
       "7.0         43\n",
       "8.0         15\n",
       "9.0          7\n",
       "10.0         6\n",
       "11.0         3\n",
       "12.0         2\n",
       "27.0         1\n",
       "Name: Number of Motor Vehicles, dtype: int64"
      ]
     },
     "execution_count": 12,
     "metadata": {},
     "output_type": "execute_result"
    }
   ],
   "source": [
    "df['Number of Motor Vehicles'].value_counts()"
   ]
  },
  {
   "cell_type": "code",
   "execution_count": 8,
   "id": "29936e7b",
   "metadata": {},
   "outputs": [
    {
     "data": {
      "text/plain": [
       "Front to Rear                              71026\n",
       "ANGLE                                      48938\n",
       "NOT COLLISION W/MOTOR VEHICLE-TRANSPORT    34604\n",
       "SIDESWIPE - SAME DIRECTION                 28835\n",
       "HEAD-ON                                     4319\n",
       "SIDESWIPE - OPPOSITE DIRECTION              4277\n",
       "UNKNOWN                                     2589\n",
       "OTHER                                       2385\n",
       "Rear to Side                                1344\n",
       "REAR-TO-REAR                                 976\n",
       "Name: Collision Type Description, dtype: int64"
      ]
     },
     "execution_count": 8,
     "metadata": {},
     "output_type": "execute_result"
    }
   ],
   "source": [
    "df['Collision Type Description'].value_counts()"
   ]
  },
  {
   "cell_type": "code",
   "execution_count": 9,
   "id": "5a3fb96c",
   "metadata": {},
   "outputs": [
    {
     "data": {
      "text/plain": [
       "CLEAR                     135800\n",
       "CLOUDY                     28839\n",
       "RAIN                       25035\n",
       "UNKNOWN                     1840\n",
       "SNOW                        1408\n",
       "FOG                          430\n",
       "SLEET, HAIL                  263\n",
       "OTHER (NARRATIVE)            102\n",
       "BLOWING SNOW                  83\n",
       "SEVERE CROSSWIND              29\n",
       "SMOG, SMOKE                   26\n",
       "BLOWING SAND/SOIL/DIRT         2\n",
       "Name: Weather Description, dtype: int64"
      ]
     },
     "execution_count": 9,
     "metadata": {},
     "output_type": "execute_result"
    }
   ],
   "source": [
    "df['Weather Description'].value_counts()"
   ]
  },
  {
   "cell_type": "code",
   "execution_count": 10,
   "id": "c33ae514",
   "metadata": {},
   "outputs": [
    {
     "data": {
      "text/plain": [
       "DAYLIGHT                 135210\n",
       "DARK - LIGHTED            42911\n",
       "DARK - NOT LIGHTED        11729\n",
       "DUSK                       3786\n",
       "UNKNOWN                    1966\n",
       "DAWN                       1956\n",
       "Dark-Unknown Lighting      1172\n",
       "OTHER                       268\n",
       "Name: Illumination Description, dtype: int64"
      ]
     },
     "execution_count": 10,
     "metadata": {},
     "output_type": "execute_result"
    }
   ],
   "source": [
    "df['Illumination Description'].value_counts()"
   ]
  },
  {
   "cell_type": "code",
   "execution_count": 11,
   "id": "e3d23993",
   "metadata": {},
   "outputs": [
    {
     "data": {
      "text/plain": [
       "MOTOR VEHICLE IN TRANSPORT                                    145649\n",
       "PARKED MOTOR VEHICLE                                            7109\n",
       "MOTOR VEHICLE IN TRANSPORT;PARKED MOTOR VEHICLE                 3211\n",
       "CONCRETE TRAFFIC BARRIER                                        2816\n",
       "PEDESTRIAN                                                      2312\n",
       "                                                               ...  \n",
       "MOTOR VEHICLE IN TRANSPORT;CURB;DITCH;TREE                         1\n",
       "H-WAY TRAFFIC SIGNAL POST;DEER (ANIMAL);Ran Off Road-Right         1\n",
       "GUARDRAIL END;H-WAY TRAFFIC SIGNAL POST                            1\n",
       "OTHER OBJECT (NOT FIXED);GUARDRAIL FACE;MAIL BOX                   1\n",
       "BUILDING;UTILITY POLE;Ran Off Road-Left;EMBANKMENT EARTH           1\n",
       "Name: Harmful Description, Length: 2557, dtype: int64"
      ]
     },
     "execution_count": 11,
     "metadata": {},
     "output_type": "execute_result"
    }
   ],
   "source": [
    "df['Harmful Description'].value_counts()"
   ]
  },
  {
   "cell_type": "code",
   "execution_count": null,
   "id": "204885cf",
   "metadata": {},
   "outputs": [],
   "source": []
  }
 ],
 "metadata": {
  "kernelspec": {
   "display_name": "Python 3 (ipykernel)",
   "language": "python",
   "name": "python3"
  },
  "language_info": {
   "codemirror_mode": {
    "name": "ipython",
    "version": 3
   },
   "file_extension": ".py",
   "mimetype": "text/x-python",
   "name": "python",
   "nbconvert_exporter": "python",
   "pygments_lexer": "ipython3",
   "version": "3.9.12"
  }
 },
 "nbformat": 4,
 "nbformat_minor": 5
}
